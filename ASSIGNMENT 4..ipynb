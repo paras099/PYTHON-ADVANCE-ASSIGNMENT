{
 "cells": [
  {
   "cell_type": "markdown",
   "id": "4b298445",
   "metadata": {},
   "source": [
    "# Assignment 04 Solutions\n",
    "\n",
    "### Q1. Which two operator overloading methods can you use in your classes to support iteration?\n",
    "\n",
    "Ans:  _ _iter_ _ and _ _next_ _ are the operator overloading methods in python that support iteration and are collectively called iterator protocol.\n",
    "\n",
    "  -  _ _iter_ _ returns the iterator object and is called at the start of loop in our respective class.\n",
    "  \n",
    "  - _ _next_ _ is called at each loop increment, it returns the incremented value. Also Stopiteration is raised when there is no value to return."
   ]
  },
  {
   "cell_type": "code",
   "execution_count": 1,
   "id": "c92ef8ff",
   "metadata": {},
   "outputs": [
    {
     "name": "stdout",
     "output_type": "stream",
     "text": [
      "5 6 7 8 9 10 11 12 13 14 15 "
     ]
    }
   ],
   "source": [
    "class Counter:\n",
    "    def __init__(self,low,high):\n",
    "        self.current = low\n",
    "        self.high = high\n",
    "    def __iter__(self):\n",
    "        return self\n",
    "    def __next__(self):\n",
    "        if self.current > self.high:\n",
    "            raise StopIteration\n",
    "        else:\n",
    "            self.current += 1\n",
    "            return self.current - 1\n",
    "for ele in Counter(5,15):\n",
    "    print(ele, end=\" \")"
   ]
  },
  {
   "cell_type": "markdown",
   "id": "a6ca77a6",
   "metadata": {},
   "source": [
    "### Q2. In what contexts do the two operator overloading methods manage printing?\n",
    "\n",
    "Ans: _ _str_ _ and _ _repr_ _ are two operator overloading methods that manage printing.\n",
    "\n",
    "- In Short, the difference between both these operators is the goal of _ _repr_ _ is to be unambiguous and _ _str_ _ is to be readable.\n",
    "- Whenever we are printing any object reference internally _ _str_ _ method will be called by default.\n",
    "- The main purpose of _ _str_ _ is for readability. it prints the informal string representation of an object, one that is useful for printing the object. it may not be possible to convert result string to original object.\n",
    "- _ _repr_ _ is used to print official string representation of an object, so it includes all information and development."
   ]
  },
  {
   "cell_type": "code",
   "execution_count": 3,
   "id": "b2a656ad",
   "metadata": {},
   "outputs": [
    {
     "name": "stdout",
     "output_type": "stream",
     "text": [
      "<__main__.Student object at 0x000001A24F6F88B0>\n",
      "Student Name: rocket singh and Roll No: 1\n",
      "2022-09-12 09:52:00.653506\n",
      "Unable to convert back to original object\n",
      "datetime.datetime(2022, 9, 12, 9, 52, 0, 653506)\n",
      "2022-09-12 09:52:00.653506\n"
     ]
    }
   ],
   "source": [
    "class Student:\n",
    "    def __init__(self,name,roll_no):\n",
    "        self.name = name\n",
    "        self.roll_no = roll_no\n",
    "        \n",
    "s1 = Student(\"rocket singh\",1)\n",
    "print(str(s1))\n",
    "\n",
    "class Student:\n",
    "    def __init__(self,name,roll_no):\n",
    "        self.name = name\n",
    "        self.roll_no = roll_no\n",
    "    def __str__(self):\n",
    "        return f'Student Name: {self.name} and Roll No: {self.roll_no}'\n",
    "    \n",
    "s1 = Student(\"rocket singh\",1)\n",
    "print(str(s1))\n",
    "\n",
    "import datetime\n",
    "today = datetime.datetime.now()\n",
    "\n",
    "s = str(today) # converting datetime object to presentable str\n",
    "print(s)\n",
    "try: d = eval(s) # converting str back to datetime object\n",
    "except: print(\"Unable to convert back to original object\")\n",
    "    \n",
    "u = repr(today) # converting datetime object to str\n",
    "print(u)\n",
    "e = eval(u) # converting str back to datetime object\n",
    "print(e)"
   ]
  },
  {
   "cell_type": "markdown",
   "id": "53cbd2ba",
   "metadata": {},
   "source": [
    "### Q3. In a class, how do you intercept slice operations?\n",
    "\n",
    "Ans: In a class use of slice() in _ _getitem_ _ method is used for intercept slice operation. This slice method is provided with start integer number, stop integer number and step integer number.\n",
    "\n",
    "Example: _ _getitem_ _(slice(start,stop,step))"
   ]
  },
  {
   "cell_type": "markdown",
   "id": "201294dd",
   "metadata": {},
   "source": [
    "### Q4. In a class, how do you capture in-place addition?\n",
    "\n",
    "Ans: a+b is normal addition. Whereas a+=b is inplace addition operation. In this in-place addition a itself will store the value of addition. In a class __iadd__ method is used for this in-place operation"
   ]
  },
  {
   "cell_type": "code",
   "execution_count": 4,
   "id": "95435a34",
   "metadata": {},
   "outputs": [
    {
     "name": "stdout",
     "output_type": "stream",
     "text": [
      "300\n"
     ]
    }
   ],
   "source": [
    "class Book:\n",
    "    def __init__(self,pages):\n",
    "        self.pages = pages\n",
    "    def __iadd__(self,other):\n",
    "        self.pages += other.pages\n",
    "        return self.pages\n",
    "        \n",
    "b1 = Book(100)\n",
    "b2 = Book(200)\n",
    "b1+=b2\n",
    "print(b1)"
   ]
  },
  {
   "cell_type": "markdown",
   "id": "a9ac158c",
   "metadata": {},
   "source": [
    "### Q5. When is it appropriate to use operator overloading?\n",
    "\n",
    "Ans: Operator overloading is used when we want to use an operator other than its normal operation to have different meaning according to the context required in user defined function."
   ]
  },
  {
   "cell_type": "code",
   "execution_count": 5,
   "id": "8ec14c12",
   "metadata": {},
   "outputs": [
    {
     "name": "stdout",
     "output_type": "stream",
     "text": [
      "Total Number of Pages -> 300\n"
     ]
    }
   ],
   "source": [
    "class Book:\n",
    "    def __init__(self,pages):\n",
    "        self.pages = pages\n",
    "    def __add__(self,other):\n",
    "        return self.pages+other.pages\n",
    "b1 = Book(100)\n",
    "b2 = Book(200)\n",
    "print(f'Total Number of Pages -> {b1+b2}')"
   ]
  }
 ],
 "metadata": {
  "kernelspec": {
   "display_name": "Python 3 (ipykernel)",
   "language": "python",
   "name": "python3"
  },
  "language_info": {
   "codemirror_mode": {
    "name": "ipython",
    "version": 3
   },
   "file_extension": ".py",
   "mimetype": "text/x-python",
   "name": "python",
   "nbconvert_exporter": "python",
   "pygments_lexer": "ipython3",
   "version": "3.9.7"
  }
 },
 "nbformat": 4,
 "nbformat_minor": 5
}
